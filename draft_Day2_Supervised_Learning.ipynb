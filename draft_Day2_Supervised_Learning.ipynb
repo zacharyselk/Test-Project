{
  "cells": [
    {
      "cell_type": "markdown",
      "metadata": {
        "id": "view-in-github",
        "colab_type": "text"
      },
      "source": [
        "<a href=\"https://colab.research.google.com/github/zacharyselk/Test-Project/blob/trunk/draft_Day2_Supervised_Learning.ipynb\" target=\"_parent\"><img src=\"https://colab.research.google.com/assets/colab-badge.svg\" alt=\"Open In Colab\"/></a>"
      ]
    },
    {
      "cell_type": "markdown",
      "metadata": {
        "id": "V45xw1lIHnDX"
      },
      "source": [
        "![title](NAT.png)\n",
        "\n",
        "<h2><center><font color='green'>Introduction</font></center></h2>\n",
        "<h1><center><font color='green' size=\"20px\">Supervised Learning</font></center></h1>\n",
        "<br>\n",
        "\n",
        "<h4><center>By: Cameron Hildebrandt - January 30th, 2021 - Lesson 2a</center></h4>\n",
        "\n",
        "<br><br>\n",
        "Today we will cover supervised learning by teaching you how to learn and understand any ML model and how to use any supervised machine learning model without being afraid of the underlying math behind it.\n",
        "<br><br>\n",
        "We will teach you arguably the simplest machine learning model, linear regression, in 3 different ways! Hopefully leaving you with the understanding that there can be more than 1 definitions and ways via which you can learn,  understand and apply a ML concept.\n",
        "<br>\n",
        "<h3>Table of Contents</h3>\n",
        "\n",
        "* Supervised Learning\n",
        "* Linear Regression\n",
        "  * Statistical Perspective\n",
        "  * Mathematical Perspective\n",
        "  * Computer Science(ML) Perspective\n",
        "* Logistic Regression: Case Study\n",
        "* Exercise"
      ]
    },
    {
      "cell_type": "markdown",
      "metadata": {
        "id": "oJEuP9WKHnDg"
      },
      "source": [
        "<h3>Import Required Libraries</h3>"
      ]
    },
    {
      "cell_type": "code",
      "execution_count": null,
      "metadata": {
        "id": "TLLUUxxqHnDh",
        "outputId": "f2a26beb-ea4a-481f-8397-1668d2d02dd0",
        "colab": {
          "base_uri": "https://localhost:8080/"
        }
      },
      "outputs": [
        {
          "output_type": "stream",
          "name": "stdout",
          "text": [
            "Requirement already satisfied: numpy in /usr/local/lib/python3.10/dist-packages (1.22.4)\n",
            "Requirement already satisfied: matplotlib in /usr/local/lib/python3.10/dist-packages (3.7.1)\n",
            "Requirement already satisfied: contourpy>=1.0.1 in /usr/local/lib/python3.10/dist-packages (from matplotlib) (1.1.0)\n",
            "Requirement already satisfied: cycler>=0.10 in /usr/local/lib/python3.10/dist-packages (from matplotlib) (0.11.0)\n",
            "Requirement already satisfied: fonttools>=4.22.0 in /usr/local/lib/python3.10/dist-packages (from matplotlib) (4.40.0)\n",
            "Requirement already satisfied: kiwisolver>=1.0.1 in /usr/local/lib/python3.10/dist-packages (from matplotlib) (1.4.4)\n",
            "Requirement already satisfied: numpy>=1.20 in /usr/local/lib/python3.10/dist-packages (from matplotlib) (1.22.4)\n",
            "Requirement already satisfied: packaging>=20.0 in /usr/local/lib/python3.10/dist-packages (from matplotlib) (23.1)\n",
            "Requirement already satisfied: pillow>=6.2.0 in /usr/local/lib/python3.10/dist-packages (from matplotlib) (8.4.0)\n",
            "Requirement already satisfied: pyparsing>=2.3.1 in /usr/local/lib/python3.10/dist-packages (from matplotlib) (3.1.0)\n",
            "Requirement already satisfied: python-dateutil>=2.7 in /usr/local/lib/python3.10/dist-packages (from matplotlib) (2.8.2)\n",
            "Requirement already satisfied: six>=1.5 in /usr/local/lib/python3.10/dist-packages (from python-dateutil>=2.7->matplotlib) (1.16.0)\n",
            "Collecting sklearn\n",
            "  Downloading sklearn-0.0.post5.tar.gz (3.7 kB)\n",
            "  \u001b[1;31merror\u001b[0m: \u001b[1msubprocess-exited-with-error\u001b[0m\n",
            "  \n",
            "  \u001b[31m×\u001b[0m \u001b[32mpython setup.py egg_info\u001b[0m did not run successfully.\n",
            "  \u001b[31m│\u001b[0m exit code: \u001b[1;36m1\u001b[0m\n",
            "  \u001b[31m╰─>\u001b[0m See above for output.\n",
            "  \n",
            "  \u001b[1;35mnote\u001b[0m: This error originates from a subprocess, and is likely not a problem with pip.\n",
            "  Preparing metadata (setup.py) ... \u001b[?25l\u001b[?25herror\n",
            "\u001b[1;31merror\u001b[0m: \u001b[1mmetadata-generation-failed\u001b[0m\n",
            "\n",
            "\u001b[31m×\u001b[0m Encountered error while generating package metadata.\n",
            "\u001b[31m╰─>\u001b[0m See above for output.\n",
            "\n",
            "\u001b[1;35mnote\u001b[0m: This is an issue with the package mentioned above, not pip.\n",
            "\u001b[1;36mhint\u001b[0m: See above for details.\n",
            "\n",
            "Done!\n"
          ]
        }
      ],
      "source": [
        "# Download from the internet if not already installed\n",
        "import sys\n",
        "!{sys.executable} -m pip install numpy\n",
        "!{sys.executable} -m pip install matplotlib\n",
        "!{sys.executable} -m pip install sklearn\n",
        "\n",
        "# Import into Jupyter\n",
        "import matplotlib.pyplot as plt\n",
        "from ipywidgets import interactive\n",
        "import numpy as np\n",
        "from sklearn import linear_model\n",
        "import random\n",
        "\n",
        "print(\"\\nDone!\")"
      ]
    },
    {
      "cell_type": "markdown",
      "source": [
        "# Machine Learning\n",
        "\n",
        "The definition of machine learning is \"The use and development of computer systems that are able to learn and adapt without following explicit instrunctions, by using algorithms and statistical models to analyze and draw inferences from patterns in data.\"\n",
        "\n",
        "## When dealing with machine learning problems, there are generally two types of data (and machine learning models):\n",
        "- Supervised data: always has one or multiple targets associated with it.\n",
        "- Unsupervised data: does not have any target variable.\n",
        "\n",
        "A supervised problem is considerably easier to tackle than an unsupervised one. A problem in which we are required to predict a value is known as a supervised problem. For example, if the problem is to predict house prices given historical house prices, with features like presence of a hospital, school or supermarket, distance to nearest public transport, etc. is a supervised problem. Similarly, when we are provided with images of cats and dogs, and we know beforehand which ones are cats and which ones are dogs, and if the task is to create a model which predicts whether a provided image is of a cat or a dog, the problem is considered to be\n",
        "supervised."
      ],
      "metadata": {
        "id": "KPCta3A_jy-G"
      }
    },
    {
      "cell_type": "markdown",
      "metadata": {
        "id": "Ef8eo3BUHnDl"
      },
      "source": [
        "## Linear Regression\n",
        "One of the tools in supervised learning is Regression.\n",
        "<br><br>\n",
        "The goal of regression is to find something that best represents our datapoints. It could be a Function, an Algorithm, or anything else. In most cases it turns out to be a mathematical function.<br>\n",
        "In this case with **Linear regression**, as the name implies, we are trying to find a linear mathematical function(ex. a line) that can best represent our datapoints. Rigorously speaking, the \"best\" line is the line that minimizes the squared error between the line and the datapoints. Let's explore what the heck that means!\n",
        "<br><br>\n",
        "First, let's choose some random datapoints to regress over."
      ]
    },
    {
      "cell_type": "code",
      "execution_count": null,
      "metadata": {
        "id": "dPNNccxCHnDm",
        "outputId": "d6828780-5a49-4d70-a082-6040b6af5ac7",
        "colab": {
          "base_uri": "https://localhost:8080/",
          "height": 430
        }
      },
      "outputs": [
        {
          "output_type": "display_data",
          "data": {
            "text/plain": [
              "<Figure size 640x480 with 1 Axes>"
            ],
            "image/png": "[encoded data removed]"
          },
          "metadata": {}
        }
      ],
      "source": [
        "# Define arbutrary datapoints\n",
        "x = np.array([0.3, 1.4, 2.3, 1.1, 3.3, 2.8])\n",
        "y = np.array([0.1, 3.4, 5.2, 1.1, 8.2, 4.2])\n",
        "\n",
        "# Plot the datapoints\n",
        "plt.plot(x, y, \"o\")\n",
        "plt.show()"
      ]
    },
    {
      "cell_type": "markdown",
      "metadata": {
        "id": "pjM_5rMNHnDn"
      },
      "source": [
        "How exactly are we going to draw a line that best represents that data? We can't exactly use our highschool knowledge of fitting a y = mx+b line to some points since there is no single line that will go through all of these points. This is what's called an overdetermined system.\n",
        "<br><br>\n",
        "Let's just pick a random m and b for the equation y = mx + b and see how well that fits our data!"
      ]
    },
    {
      "cell_type": "code",
      "source": [
        "import plotly.express as px"
      ],
      "metadata": {
        "id": "Z71WXZWxnsq6"
      },
      "execution_count": null,
      "outputs": []
    },
    {
      "cell_type": "code",
      "execution_count": null,
      "metadata": {
        "id": "IZ2H_v9_HnDo",
        "outputId": "b5578e7d-6611-436c-985e-52c84af6e077",
        "colab": {
          "base_uri": "https://localhost:8080/",
          "height": 448
        }
      },
      "outputs": [
        {
          "output_type": "stream",
          "name": "stdout",
          "text": [
            "[0.46 1.78 2.86 1.42 4.06 3.46]\n"
          ]
        },
        {
          "output_type": "display_data",
          "data": {
            "text/plain": [
              "<Figure size 640x480 with 1 Axes>"
            ],
            "image/png": "[encoded data removed]"
          },
          "metadata": {}
        }
      ],
      "source": [
        "# Pick random m and b\n",
        "m = 1.2\n",
        "b = 0.1\n",
        "\n",
        "# Calculate estimated y-values (yPred)\n",
        "yPred = m*x + b\n",
        "\n",
        "# Plot it\n",
        "print(yPred)\n",
        "plt.clf()\n",
        "plt.plot(x, y, \"o\")\n",
        "plt.plot(x, yPred, color=\"r\")\n",
        "plt.show()"
      ]
    },
    {
      "cell_type": "markdown",
      "metadata": {
        "id": "q8V4Hca-HnDp"
      },
      "source": [
        "Not too bad... but not really that great either. We need to find a way to evaluate the quality of our randomly chosen line. To do that, lets define squared error. We want to find the difference between each of the points:<br><br>\n",
        "\\begin{equation}\n",
        "(y_i - yPred_i)\n",
        "\\end{equation}\n",
        "\n",
        "<br>\n",
        "But we want to highlight those error that are big from smaller ones. And to make those bigger errors stand out, we square it. You might ask why do we want to highlight those errors? Its because we want to minimize the error as much as possible. We know that we cannot achieve 0 error. But we can try to find out those points where the error is BIG and try to fit our line there. <br>\n",
        "\\begin{equation}\n",
        "(y_i - yPred_i)^2\n",
        "\\end{equation}\n",
        "\n",
        "<br>\n",
        "And find the sum of square errors for all points.<br>\n",
        "\n",
        "\\begin{equation}\n",
        "\\sum_{i=0}^n (y_i - yPred_i)^2\n",
        "\\end{equation}\n",
        "\n",
        "<br><br>\n",
        "This will give you a single number that represents the \"quality\" of your line. Let's try this out with our random line."
      ]
    },
    {
      "cell_type": "code",
      "execution_count": null,
      "metadata": {
        "id": "icg0zs2EHnDq",
        "outputId": "321eb0f0-4efb-44cc-aae6-a315433a8100",
        "colab": {
          "base_uri": "https://localhost:8080/"
        }
      },
      "outputs": [
        {
          "output_type": "stream",
          "name": "stdout",
          "text": [
            "Error: 26.019199999999998\n"
          ]
        }
      ],
      "source": [
        "sumError = 0\n",
        "for i in range(len(y)):\n",
        "    sumError += (y[i] - yPred[i])**2\n",
        "print(\"Error:\", sumError)"
      ]
    },
    {
      "cell_type": "markdown",
      "metadata": {
        "id": "PanhbDfhHnDr"
      },
      "source": [
        "Nice, let's pick a better m and b and see what happens to our number!"
      ]
    },
    {
      "cell_type": "code",
      "execution_count": null,
      "metadata": {
        "scrolled": true,
        "id": "_h1akNw0HnDr",
        "outputId": "251246e7-865e-4162-ee61-24e0ab9fadc9",
        "colab": {
          "base_uri": "https://localhost:8080/",
          "height": 448
        }
      },
      "outputs": [
        {
          "output_type": "stream",
          "name": "stdout",
          "text": [
            "[0.7 2.9 4.7 2.3 6.7 5.7]\n"
          ]
        },
        {
          "output_type": "display_data",
          "data": {
            "text/plain": [
              "<Figure size 640x480 with 1 Axes>"
            ],
            "image/png": "[encoded data removed]"
          },
          "metadata": {}
        }
      ],
      "source": [
        "# Pick a better m and b\n",
        "m = 2\n",
        "b = 0.1\n",
        "\n",
        "# Calculate estimated y-values (yPred)\n",
        "yPred2 = m*x + b\n",
        "\n",
        "# Plot it\n",
        "print(yPred2)\n",
        "plt.clf()\n",
        "plt.plot(x, y, \"o\")\n",
        "plt.plot(x, yPred, color=\"r\") # replotting old line for comparison\n",
        "plt.plot(x, yPred2, color=\"g\")\n",
        "plt.show()\n"
      ]
    },
    {
      "cell_type": "code",
      "execution_count": null,
      "metadata": {
        "id": "vSMABkaJHnDs",
        "outputId": "41283858-59df-472f-ab4c-007b37a6b08c",
        "colab": {
          "base_uri": "https://localhost:8080/"
        }
      },
      "outputs": [
        {
          "output_type": "stream",
          "name": "stdout",
          "text": [
            "Error: 6.799999999999998\n"
          ]
        }
      ],
      "source": [
        "sumError = 0\n",
        "for i in range(len(y)):\n",
        "    sumError += (y[i] - yPred2[i])**2\n",
        "print(\"Error:\", sumError)"
      ]
    },
    {
      "cell_type": "markdown",
      "metadata": {
        "id": "JuhqlcJFHnDt"
      },
      "source": [
        "So the smaller the number, the better the line represents the data. So if we find the line with the minimum squared error, then we have the line that best represents the data!\n",
        "<br><br>"
      ]
    },
    {
      "cell_type": "markdown",
      "source": [
        "### Statistically\n",
        "\n",
        "if you are good with statistics then it provides a good estimtes for $m$ and $b$\n",
        "\n",
        "$$m = {{\\sum_{i=1}^n (x_i - x̄) (y_i - ȳ)} \\over {\\sum_{i=1}^n (x_i - x̄)^2}}, $$\n",
        "and\n",
        "$$b = ȳ - mx̄$$\n",
        "where,\n",
        "$x̄ = {1 \\over n}{\\sum_{i=1}^n x_i}$ and $ȳ = {1 \\over n}{\\sum_{i=1}^n y_i}$"
      ],
      "metadata": {
        "id": "jpj7aT6R-Wwx"
      }
    },
    {
      "cell_type": "code",
      "source": [
        "m = (np.sum((x-x.mean())*(y-y.mean()))) / (np.sum((x-x.mean())**2))\n",
        "b = (y.mean() - m*x.mean())\n",
        "print(f\"our line is y = {m}x + {b}\")"
      ],
      "metadata": {
        "colab": {
          "base_uri": "https://localhost:8080/"
        },
        "id": "LytkDeqUC357",
        "outputId": "5256c6e7-50a5-49d5-cab0-c6c7fad9ea19"
      },
      "execution_count": null,
      "outputs": [
        {
          "output_type": "stream",
          "name": "stdout",
          "text": [
            "our line is y = 2.4069037656903767x + -0.7928870292887029\n"
          ]
        }
      ]
    },
    {
      "cell_type": "markdown",
      "source": [
        "### Mathematically\n",
        "\n",
        "Another way we can find $m$ and $b$ is through linear algebra.\n",
        "<br><br>\n",
        "Remember earlier we said, \"We can't exactly use our highschool knowledge of fitting a y = mx+b line to some points since there is no single line that will go through all of these points.\" Well it turns out we can use our highschool knowledge if combined with a little bit of linear algebra.\n",
        "<br>\n",
        "if we can think of $x$ and $y$ as matrices $X$ and $Y$, we can simplify our line equations and represent it into matrix form,\n",
        "\n",
        "$$Y = mX + b$$\n",
        "\\begin{align}\n",
        "    \\begin{bmatrix}\n",
        "        y_{1} \\\\\n",
        "        y_{2} \\\\\n",
        "        \\vdots \\\\\n",
        "        y_{n}\n",
        "    \\end{bmatrix} =& \\\n",
        "    m\\begin{bmatrix}\n",
        "        x_{1} \\\\\n",
        "        x_{2} \\\\\n",
        "        \\vdots \\\\\n",
        "        x_{n}\n",
        "    \\end{bmatrix} + b\\\\\n",
        "    \\begin{bmatrix}\n",
        "        y_{1} \\\\\n",
        "        y_{2} \\\\\n",
        "        \\vdots \\\\\n",
        "        y_{n}\n",
        "    \\end{bmatrix} =& \\\n",
        "    m\\begin{bmatrix}x_{1} x_{2} \\dots x_{n}\\end{bmatrix}' + \\\n",
        "    b\\begin{bmatrix}{1} {1} \\dots {1}\\end{bmatrix}'\\\\\n",
        "    \\begin{bmatrix}\n",
        "        y_{1} \\\\\n",
        "        y_{2} \\\\\n",
        "        \\vdots \\\\\n",
        "        y_{n}\n",
        "    \\end{bmatrix} =& \\\n",
        "    \\bigg[ m \\ b \\bigg] \\begin{bmatrix}\n",
        "      \\begin{bmatrix}x_{1}  x_{2} \\dots x_{n} \\end{bmatrix}' \\\\\n",
        "      \\begin{bmatrix}1  1 \\dots 1 \\end{bmatrix}'\n",
        "    \\end{bmatrix} \\\\\n",
        "\\end{align}\n",
        "$$Y = M\\hat{X}$$\n",
        "\n",
        "where $\\hat{X}$ is just $X$ with Identity vector($I$) appended.\n",
        "<br>\n",
        "Now, we just have to solve for $M$,\n",
        "$$Y\\hat{X}^{-1}=M$$"
      ],
      "metadata": {
        "id": "nDDC-1ygExMU"
      }
    },
    {
      "cell_type": "code",
      "source": [
        "Y = np.matrix(y)\n",
        "X = np.concatenate((np.matrix(x), np.matrix(np.ones(x.shape[0]))), axis=0)\n",
        "M = Y*np.linalg.pinv(X)\n",
        "m, b = M[0, 0], M[0, 1]\n",
        "print(f\"our line is y = {m}x + {b}\")"
      ],
      "metadata": {
        "colab": {
          "base_uri": "https://localhost:8080/"
        },
        "outputId": "564c6574-5d1d-4aa8-f33d-38f3e5c98a0b",
        "id": "yOhKhd1AExMW"
      },
      "execution_count": null,
      "outputs": [
        {
          "output_type": "stream",
          "name": "stdout",
          "text": [
            "our line is y = 2.4069037656903776x + -0.7928870292887076\n"
          ]
        }
      ]
    },
    {
      "cell_type": "markdown",
      "source": [
        "### In Computer Science / Gradient Descent (Calculus)\n",
        "\n",
        "And finally, I believe this is at the core of (any)regression algorithm(And possible even useful to understand neural networks): Gradient Descent. \"Gradient descent is an iterative optimization algorithm to find the minimum of a function.\" Usually that's some sort of loss/error function($L$). In our case that function is our mean squared error that we discussed earlier.\n",
        "\n",
        "$$L = {1 \\over n} \\sum_{i=0}^n (y_i - \\bar{y_i})^2 $$\n",
        "\n",
        "Here $y_i$ is the actual value and $\\bar{y_i}$ is the predicted value. Lets substitute the value of $\\bar{y_i}$.\n",
        "\n",
        "$$L = {1 \\over n} \\sum_{i=0}^n (y_i - (m{x_i}+b))^2 $$\n",
        "\n",
        "After defining our loss function, now let's look at Gradient Decent and see how it works. We try applying gradient descent to $m$ and $b$ and approach it step by step:\n",
        "1. Initialize let $m = 0$ and $b = 0$. Let $l$ be our learning rate. This controls how much the value of m changes with each step. Or how much our model is learning in each step. $l$ could be a small value like 0.0001 for good accuracy.\n",
        "2. Calculate the partial derivative of the loss function($L$) with respect to $m$, and plug in the current values of $x$, $y$, $m$ and $b$ in it to obtain the derivative value $\\theta$.\n",
        "\n",
        "$$ {{\\partial}L \\over {\\partial}m} = {\\theta}_m = {1\\over n}\\sum_{i=0}^n 2(y_i - (m{x_i}+b))(-x_i)$$\n",
        "$${\\theta}_m = {-2\\over n}\\sum_{i=0}^n x_i(y_i - \\bar{y_i})$$\n",
        "\n",
        "* ${\\theta}_m$ is the value of the partial derivative with respect to m. Similarly lets find the partial derivative of $L$ with respect to $b$, ${\\theta}_b$ :\n",
        "\n",
        "$$ {{\\partial}L \\over {\\partial}b} = {\\theta}_b = {-2\\over n}\\sum_{i=0}^n (y_i - \\bar{y_i})$$\n",
        "\n",
        "3. Now we update the current value of $m$ and $b$ by propogating it towards the opposite direction of their respective gredients, and scaling the propogation down by $l$:\n",
        "$$m = m - l \\times {\\theta}_m$$\n",
        "$$b = b - l \\times {\\theta}_b$$\n",
        "\n",
        "4. We repeat this process until we reach convergence. i.e. our loss function is a very small value or ideally 0 (which means 0 error or ~100% accuracy). The value of $m$ and $b$ that we are left with now will be the optimum values.\n",
        "\n",
        "In practice this is how it looks like:"
      ],
      "metadata": {
        "id": "UT7tXJm6TKGy"
      }
    },
    {
      "cell_type": "code",
      "source": [
        "# Building the model\n",
        "m = 0\n",
        "b = 0\n",
        "\n",
        "l = 0.01  # The learning Rate\n",
        "epochs = 10000  # The number of iterations to perform gradient descent\n",
        "\n",
        "n = float(len(x)) # Number of elements in X\n",
        "\n",
        "def lr_gradient_descent_itr(m, b, l=l):\n",
        "    y_pred = m*x + b  # The current predicted value of Y\n",
        "    loss = (y - y_pred)**2\n",
        "    theta_m = (-2/n) * sum(x * (y - y_pred))  # Derivative wrt m\n",
        "    theta_b = (-2/n) * sum(y - y_pred)  # Derivative wrt b\n",
        "    m_new = m - l * theta_m  # Update m\n",
        "    b_new = b - l * theta_b  # Update b\n",
        "    return m_new, b_new, loss.mean()\n",
        "\n",
        "def lr_gradient_descent(l, epoch):\n",
        "    m, b = 0, 0\n",
        "    plt.figure(2)\n",
        "    for i in range(epoch):\n",
        "        m, b, loss = lr_gradient_descent_itr(m, b, l)\n",
        "    plt.plot(x, y, \"o\")\n",
        "    plt.plot(x, m * x + b)\n",
        "    plt.title(f\"y = {np.round(m, decimals=2)}x + {np.round(b, decimals=2)}, loss={np.round(loss, decimals=2)}\")\n",
        "    # plt.ylim(-5, 5)\n",
        "    plt.show()\n",
        "\n",
        "ls = [1e-6, 1e-5, 1e-4, 1e-3, 1e-2, 1e-1, 1]\n",
        "interactive_plot = interactive(lr_gradient_descent, l=ls, epoch=(1, 100000))\n",
        "output = interactive_plot.children[-1]\n",
        "output.layout.height = '450px'\n",
        "interactive_plot"
      ],
      "metadata": {
        "colab": {
          "base_uri": "https://localhost:8080/",
          "height": 531,
          "referenced_widgets": [
            "2186abf9a1d6434c82175d384d0015e5",
            "e1033594d9ab498d9f9e661d0f02b1e9",
            "0ef4c7c89d3a433a9c17299285efc5b4",
            "dced1b298b7d4a67a76848f9f3e438a6",
            "da72be5906d148dfaa3cd963c2b2a302",
            "2fb6108019974372a8126f5c669516a1",
            "dad8350febbd45548112e28307819f94",
            "c534ee995b8a44549f7b89489ec2f771",
            "c829b0d2768248659b0e40643f665873",
            "25085c0361dc4da1b2b6db1331315cd2"
          ]
        },
        "outputId": "f85be45a-be39-42a4-9254-e37024dd865d",
        "id": "VrnWnZBOTKG0"
      },
      "execution_count": null,
      "outputs": [
        {
          "output_type": "display_data",
          "data": {
            "text/plain": [
              "interactive(children=(Dropdown(description='l', options=(1e-06, 1e-05, 0.0001, 0.001, 0.01, 0.1, 1), value=1e-…"
            ],
            "application/vnd.jupyter.widget-view+json": {
              "version_major": 2,
              "version_minor": 0,
              "model_id": "2186abf9a1d6434c82175d384d0015e5"
            }
          },
          "metadata": {}
        }
      ]
    },
    {
      "cell_type": "markdown",
      "metadata": {
        "id": "use4eh1fHnDv"
      },
      "source": [
        "<h2>Machine Learning Perspective</h2>\n",
        "\n",
        "Fortunately we don't need to do any math or to understand it this deep. Though you will later realize that even a little bit of understanding helps a lot in disigning the modeling process. Also, since our peers, who came before us have already built the necessery tools and libraries, with hard coded math in python, for us to Just use it.\n",
        "\n",
        "In machine learning, we are going to do the exact same thing, but we are going to give some new names to the different elements.\n",
        "<br><br>\n",
        "We are going to call m and b <u>parameters</u>.<br>\n",
        "The linear equation (y = mx + b) is called the <u>model</u>.<br>\n",
        "This model is said to be <u>trained</u> if we have found the \"best\" values for the parameters.<br>\n",
        "We use a <u>training algorithm</u> to train/fit the model, in this case, it was linear regression.\n",
        "<br><br>\n",
        "It is important to understand concepts as we go though the rest of the workshop, as this is the machine learning jargon that will be used throughout the course! Feel free to come back to this for reference at any point throughout the workshop!\n",
        "<br><br>\n",
        "We generally use sklearn, an ML library, to help us with these types of ML problems."
      ]
    },
    {
      "cell_type": "code",
      "execution_count": null,
      "metadata": {
        "id": "YW2W2_8KHnDv",
        "colab": {
          "base_uri": "https://localhost:8080/"
        },
        "outputId": "a6b29f52-a951-41bc-ee2a-4c82fd7708e2"
      },
      "outputs": [
        {
          "output_type": "stream",
          "name": "stdout",
          "text": [
            "our line is y = 2.4069037656903762x + -0.792887029288702\n"
          ]
        }
      ],
      "source": [
        "model = linear_model.LinearRegression()\n",
        "model.fit(x.reshape(-1, 1), y.reshape(-1, 1))\n",
        "m, b = model.coef_[0,0], model.intercept_[0]\n",
        "print(f\"our line is y = {m}x + {b}\")"
      ]
    },
    {
      "cell_type": "code",
      "source": [
        "# and this is how we predict new values prediction\n",
        "x_new = 2\n",
        "y_pred = model.predict(np.array([x_new]).reshape(1, -1))[0,0]\n",
        "print(f\"{y_pred}, {2.4069037656903762*x_new + -0.792887029288702}\")"
      ],
      "metadata": {
        "colab": {
          "base_uri": "https://localhost:8080/"
        },
        "id": "6FR0WhBPsZ7n",
        "outputId": "48e1a3e0-ef5d-4a09-ca36-be7467e7c4b7"
      },
      "execution_count": null,
      "outputs": [
        {
          "output_type": "stream",
          "name": "stdout",
          "text": [
            "4.02092050209205, 4.02092050209205\n"
          ]
        }
      ]
    },
    {
      "cell_type": "markdown",
      "source": [
        "# RTFM!\n",
        "\n",
        "if you want to know how a model, or any algorithm works at any time or confused about which model to use & how to use, just remember to \"<u>**READ THE FRIENDLY MANNUAL**</u>\""
      ],
      "metadata": {
        "id": "TLQwptvMTEhT"
      }
    },
    {
      "cell_type": "code",
      "source": [
        "help(model)"
      ],
      "metadata": {
        "colab": {
          "base_uri": "https://localhost:8080/"
        },
        "id": "VOSeXHNWShCb",
        "outputId": "a0db86f3-dc13-48a0-a3fd-cc4737400c59"
      },
      "execution_count": null,
      "outputs": [
        {
          "output_type": "stream",
          "name": "stdout",
          "text": [
            "Help on LinearRegression in module sklearn.linear_model._base object:\n",
            "\n",
            "class LinearRegression(sklearn.base.MultiOutputMixin, sklearn.base.RegressorMixin, LinearModel)\n",
            " |  LinearRegression(*, fit_intercept=True, copy_X=True, n_jobs=None, positive=False)\n",
            " |  \n",
            " |  Ordinary least squares Linear Regression.\n",
            " |  \n",
            " |  LinearRegression fits a linear model with coefficients w = (w1, ..., wp)\n",
            " |  to minimize the residual sum of squares between the observed targets in\n",
            " |  the dataset, and the targets predicted by the linear approximation.\n",
            " |  \n",
            " |  Parameters\n",
            " |  ----------\n",
            " |  fit_intercept : bool, default=True\n",
            " |      Whether to calculate the intercept for this model. If set\n",
            " |      to False, no intercept will be used in calculations\n",
            " |      (i.e. data is expected to be centered).\n",
            " |  \n",
            " |  copy_X : bool, default=True\n",
            " |      If True, X will be copied; else, it may be overwritten.\n",
            " |  \n",
            " |  n_jobs : int, default=None\n",
            " |      The number of jobs to use for the computation. This will only provide\n",
            " |      speedup in case of sufficiently large problems, that is if firstly\n",
            " |      `n_targets > 1` and secondly `X` is sparse or if `positive` is set\n",
            " |      to `True`. ``None`` means 1 unless in a\n",
            " |      :obj:`joblib.parallel_backend` context. ``-1`` means using all\n",
            " |      processors. See :term:`Glossary <n_jobs>` for more details.\n",
            " |  \n",
            " |  positive : bool, default=False\n",
            " |      When set to ``True``, forces the coefficients to be positive. This\n",
            " |      option is only supported for dense arrays.\n",
            " |  \n",
            " |      .. versionadded:: 0.24\n",
            " |  \n",
            " |  Attributes\n",
            " |  ----------\n",
            " |  coef_ : array of shape (n_features, ) or (n_targets, n_features)\n",
            " |      Estimated coefficients for the linear regression problem.\n",
            " |      If multiple targets are passed during the fit (y 2D), this\n",
            " |      is a 2D array of shape (n_targets, n_features), while if only\n",
            " |      one target is passed, this is a 1D array of length n_features.\n",
            " |  \n",
            " |  rank_ : int\n",
            " |      Rank of matrix `X`. Only available when `X` is dense.\n",
            " |  \n",
            " |  singular_ : array of shape (min(X, y),)\n",
            " |      Singular values of `X`. Only available when `X` is dense.\n",
            " |  \n",
            " |  intercept_ : float or array of shape (n_targets,)\n",
            " |      Independent term in the linear model. Set to 0.0 if\n",
            " |      `fit_intercept = False`.\n",
            " |  \n",
            " |  n_features_in_ : int\n",
            " |      Number of features seen during :term:`fit`.\n",
            " |  \n",
            " |      .. versionadded:: 0.24\n",
            " |  \n",
            " |  feature_names_in_ : ndarray of shape (`n_features_in_`,)\n",
            " |      Names of features seen during :term:`fit`. Defined only when `X`\n",
            " |      has feature names that are all strings.\n",
            " |  \n",
            " |      .. versionadded:: 1.0\n",
            " |  \n",
            " |  See Also\n",
            " |  --------\n",
            " |  Ridge : Ridge regression addresses some of the\n",
            " |      problems of Ordinary Least Squares by imposing a penalty on the\n",
            " |      size of the coefficients with l2 regularization.\n",
            " |  Lasso : The Lasso is a linear model that estimates\n",
            " |      sparse coefficients with l1 regularization.\n",
            " |  ElasticNet : Elastic-Net is a linear regression\n",
            " |      model trained with both l1 and l2 -norm regularization of the\n",
            " |      coefficients.\n",
            " |  \n",
            " |  Notes\n",
            " |  -----\n",
            " |  From the implementation point of view, this is just plain Ordinary\n",
            " |  Least Squares (scipy.linalg.lstsq) or Non Negative Least Squares\n",
            " |  (scipy.optimize.nnls) wrapped as a predictor object.\n",
            " |  \n",
            " |  Examples\n",
            " |  --------\n",
            " |  >>> import numpy as np\n",
            " |  >>> from sklearn.linear_model import LinearRegression\n",
            " |  >>> X = np.array([[1, 1], [1, 2], [2, 2], [2, 3]])\n",
            " |  >>> # y = 1 * x_0 + 2 * x_1 + 3\n",
            " |  >>> y = np.dot(X, np.array([1, 2])) + 3\n",
            " |  >>> reg = LinearRegression().fit(X, y)\n",
            " |  >>> reg.score(X, y)\n",
            " |  1.0\n",
            " |  >>> reg.coef_\n",
            " |  array([1., 2.])\n",
            " |  >>> reg.intercept_\n",
            " |  3.0...\n",
            " |  >>> reg.predict(np.array([[3, 5]]))\n",
            " |  array([16.])\n",
            " |  \n",
            " |  Method resolution order:\n",
            " |      LinearRegression\n",
            " |      sklearn.base.MultiOutputMixin\n",
            " |      sklearn.base.RegressorMixin\n",
            " |      LinearModel\n",
            " |      sklearn.base.BaseEstimator\n",
            " |      builtins.object\n",
            " |  \n",
            " |  Methods defined here:\n",
            " |  \n",
            " |  __init__(self, *, fit_intercept=True, copy_X=True, n_jobs=None, positive=False)\n",
            " |      Initialize self.  See help(type(self)) for accurate signature.\n",
            " |  \n",
            " |  fit(self, X, y, sample_weight=None)\n",
            " |      Fit linear model.\n",
            " |      \n",
            " |      Parameters\n",
            " |      ----------\n",
            " |      X : {array-like, sparse matrix} of shape (n_samples, n_features)\n",
            " |          Training data.\n",
            " |      \n",
            " |      y : array-like of shape (n_samples,) or (n_samples, n_targets)\n",
            " |          Target values. Will be cast to X's dtype if necessary.\n",
            " |      \n",
            " |      sample_weight : array-like of shape (n_samples,), default=None\n",
            " |          Individual weights for each sample.\n",
            " |      \n",
            " |          .. versionadded:: 0.17\n",
            " |             parameter *sample_weight* support to LinearRegression.\n",
            " |      \n",
            " |      Returns\n",
            " |      -------\n",
            " |      self : object\n",
            " |          Fitted Estimator.\n",
            " |  \n",
            " |  ----------------------------------------------------------------------\n",
            " |  Data and other attributes defined here:\n",
            " |  \n",
            " |  __abstractmethods__ = frozenset()\n",
            " |  \n",
            " |  __annotations__ = {'_parameter_constraints': <class 'dict'>}\n",
            " |  \n",
            " |  ----------------------------------------------------------------------\n",
            " |  Data descriptors inherited from sklearn.base.MultiOutputMixin:\n",
            " |  \n",
            " |  __dict__\n",
            " |      dictionary for instance variables (if defined)\n",
            " |  \n",
            " |  __weakref__\n",
            " |      list of weak references to the object (if defined)\n",
            " |  \n",
            " |  ----------------------------------------------------------------------\n",
            " |  Methods inherited from sklearn.base.RegressorMixin:\n",
            " |  \n",
            " |  score(self, X, y, sample_weight=None)\n",
            " |      Return the coefficient of determination of the prediction.\n",
            " |      \n",
            " |      The coefficient of determination :math:`R^2` is defined as\n",
            " |      :math:`(1 - \\frac{u}{v})`, where :math:`u` is the residual\n",
            " |      sum of squares ``((y_true - y_pred)** 2).sum()`` and :math:`v`\n",
            " |      is the total sum of squares ``((y_true - y_true.mean()) ** 2).sum()``.\n",
            " |      The best possible score is 1.0 and it can be negative (because the\n",
            " |      model can be arbitrarily worse). A constant model that always predicts\n",
            " |      the expected value of `y`, disregarding the input features, would get\n",
            " |      a :math:`R^2` score of 0.0.\n",
            " |      \n",
            " |      Parameters\n",
            " |      ----------\n",
            " |      X : array-like of shape (n_samples, n_features)\n",
            " |          Test samples. For some estimators this may be a precomputed\n",
            " |          kernel matrix or a list of generic objects instead with shape\n",
            " |          ``(n_samples, n_samples_fitted)``, where ``n_samples_fitted``\n",
            " |          is the number of samples used in the fitting for the estimator.\n",
            " |      \n",
            " |      y : array-like of shape (n_samples,) or (n_samples, n_outputs)\n",
            " |          True values for `X`.\n",
            " |      \n",
            " |      sample_weight : array-like of shape (n_samples,), default=None\n",
            " |          Sample weights.\n",
            " |      \n",
            " |      Returns\n",
            " |      -------\n",
            " |      score : float\n",
            " |          :math:`R^2` of ``self.predict(X)`` w.r.t. `y`.\n",
            " |      \n",
            " |      Notes\n",
            " |      -----\n",
            " |      The :math:`R^2` score used when calling ``score`` on a regressor uses\n",
            " |      ``multioutput='uniform_average'`` from version 0.23 to keep consistent\n",
            " |      with default value of :func:`~sklearn.metrics.r2_score`.\n",
            " |      This influences the ``score`` method of all the multioutput\n",
            " |      regressors (except for\n",
            " |      :class:`~sklearn.multioutput.MultiOutputRegressor`).\n",
            " |  \n",
            " |  ----------------------------------------------------------------------\n",
            " |  Methods inherited from LinearModel:\n",
            " |  \n",
            " |  predict(self, X)\n",
            " |      Predict using the linear model.\n",
            " |      \n",
            " |      Parameters\n",
            " |      ----------\n",
            " |      X : array-like or sparse matrix, shape (n_samples, n_features)\n",
            " |          Samples.\n",
            " |      \n",
            " |      Returns\n",
            " |      -------\n",
            " |      C : array, shape (n_samples,)\n",
            " |          Returns predicted values.\n",
            " |  \n",
            " |  ----------------------------------------------------------------------\n",
            " |  Methods inherited from sklearn.base.BaseEstimator:\n",
            " |  \n",
            " |  __getstate__(self)\n",
            " |  \n",
            " |  __repr__(self, N_CHAR_MAX=700)\n",
            " |      Return repr(self).\n",
            " |  \n",
            " |  __setstate__(self, state)\n",
            " |  \n",
            " |  get_params(self, deep=True)\n",
            " |      Get parameters for this estimator.\n",
            " |      \n",
            " |      Parameters\n",
            " |      ----------\n",
            " |      deep : bool, default=True\n",
            " |          If True, will return the parameters for this estimator and\n",
            " |          contained subobjects that are estimators.\n",
            " |      \n",
            " |      Returns\n",
            " |      -------\n",
            " |      params : dict\n",
            " |          Parameter names mapped to their values.\n",
            " |  \n",
            " |  set_params(self, **params)\n",
            " |      Set the parameters of this estimator.\n",
            " |      \n",
            " |      The method works on simple estimators as well as on nested objects\n",
            " |      (such as :class:`~sklearn.pipeline.Pipeline`). The latter have\n",
            " |      parameters of the form ``<component>__<parameter>`` so that it's\n",
            " |      possible to update each component of a nested object.\n",
            " |      \n",
            " |      Parameters\n",
            " |      ----------\n",
            " |      **params : dict\n",
            " |          Estimator parameters.\n",
            " |      \n",
            " |      Returns\n",
            " |      -------\n",
            " |      self : estimator instance\n",
            " |          Estimator instance.\n",
            "\n"
          ]
        }
      ]
    },
    {
      "cell_type": "markdown",
      "metadata": {
        "id": "Fep8xmboHnDz"
      },
      "source": [
        "<h3>Exercise</h3>\n",
        "Below are some lists representing a stripped down dataset from <a href=\"https://www.kaggle.com/mohansacharya/graduate-admissions\">Kaggle</a> that shows a student's likelihood of admission to university given a bunch of student data such as test scores, the prestige of the university, and if the student does research. The \"GRE\" list below is the student's GRE score and the \"adm\" list is their likelihood of admission.<br>\n",
        "\n",
        "* Create a test/train split of the data\n",
        "* Build a model\n",
        "* Score the model\n",
        "* Predict these student's likelihood of admission\n",
        "\n",
        "    * Student 1: GRE 299\n",
        "    * Student 2: GRE 322\n",
        "    * Student 3: GRE 420\n",
        "    \n",
        "What's up with Student 3's likelihood?"
      ]
    },
    {
      "cell_type": "code",
      "execution_count": null,
      "metadata": {
        "id": "-yLxhwBSHnD0",
        "outputId": "96eae161-8723-467d-e289-d0a7c7ad7ac8",
        "colab": {
          "base_uri": "https://localhost:8080/"
        }
      },
      "outputs": [
        {
          "output_type": "stream",
          "name": "stdout",
          "text": [
            "MSE: 9.684858097219513\n",
            "Student 0's admission likelihood: 0.5190912758185515\n",
            "Student 1's admission likelihood: 0.7451748500201703\n",
            "Student 2's admission likelihood: 1.708487470531416\n"
          ]
        }
      ],
      "source": [
        "GRE = np.array([337, 324, 316, 322, 314, 330, 321, 308, 302, 323, 325, 327, 328, 307, 311, 314, 317, 319, 318, 303, 312, 325, 328, 334, 336, 340, 322, 298, 295, 310, 300, 327, 338, 340, 331, 320, 299, 300, 304, 307, 308, 316, 313, 332, 326, 322, 329, 339, 321, 327, 313, 312, 334, 324, 322, 320])\n",
        "adm = np.array([0.92, 0.76, 0.72, 0.8, 0.65, 0.9, 0.75, 0.68, 0.5, 0.45, 0.52, 0.84, 0.78, 0.62, 0.61, 0.54, 0.66, 0.65, 0.63, 0.62, 0.64, 0.7, 0.94, 0.95, 0.97, 0.94, 0.76, 0.44, 0.46, 0.54, 0.65, 0.74, 0.91, 0.9, 0.94, 0.88, 0.64, 0.58, 0.52, 0.48, 0.46, 0.49, 0.53, 0.87, 0.91, 0.88, 0.86, 0.89, 0.82, 0.78, 0.76, 0.56, 0.78, 0.72, 0.7, 0.64])\n",
        "\n",
        "percentTrain = 0.8\n",
        "cutoff = int(percentTrain*len(GRE))\n",
        "\n",
        "# Shuffle order\n",
        "data = list(zip(GRE, adm))\n",
        "random.shuffle(data)\n",
        "GREShuffled, admShuffled = zip(*data)\n",
        "\n",
        "GRETrain = GREShuffled[:cutoff]\n",
        "GRETest = GREShuffled[cutoff:]\n",
        "\n",
        "admTrain = admShuffled[:cutoff]\n",
        "admTest = admShuffled[cutoff:]\n",
        "\n",
        "# Train model\n",
        "model3 = linear_model.LinearRegression()\n",
        "model3.fit(np.transpose([GRETrain]), admTrain)\n",
        "\n",
        "# Evaluate the model\n",
        "admPred = model3.predict(np.transpose([admTest]))\n",
        "\n",
        "sumError = 0\n",
        "for i in range(len(admTest)):\n",
        "    sumError += (admTest[i] - admPred[i])**2\n",
        "print(\"MSE:\", sumError/len(admTest))\n",
        "\n",
        "\n",
        "# Check the student's estimated admission likelihood\n",
        "studs = np.array([299, 322, 420])\n",
        "\n",
        "studsPred = model3.predict(np.transpose([studs]))\n",
        "\n",
        "for i in range(len(studsPred)):\n",
        "    print(\"Student \" + str(i) + \"'s admission likelihood: \" + str(studsPred[i]))"
      ]
    },
    {
      "cell_type": "markdown",
      "source": [
        "# Case Study!"
      ],
      "metadata": {
        "id": "eMdGM7EYCk44"
      }
    },
    {
      "cell_type": "code",
      "source": [],
      "metadata": {
        "id": "qtJv70FzCm1b"
      },
      "execution_count": null,
      "outputs": []
    }
  ],
  "metadata": {
    "kernelspec": {
      "display_name": "Python 3",
      "language": "python",
      "name": "python3"
    },
    "language_info": {
      "codemirror_mode": {
        "name": "ipython",
        "version": 3
      },
      "file_extension": ".py",
      "mimetype": "text/x-python",
      "name": "python",
      "nbconvert_exporter": "python",
      "pygments_lexer": "ipython3",
      "version": "3.8.8"
    },
    "colab": {
      "provenance": [],
      "include_colab_link": true
    },
    "widgets": {
      "application/vnd.jupyter.widget-state+json": {
        "2186abf9a1d6434c82175d384d0015e5": {
          "model_module": "@jupyter-widgets/controls",
          "model_name": "VBoxModel",
          "model_module_version": "1.5.0",
          "state": {
            "_dom_classes": [
              "widget-interact"
            ],
            "_model_module": "@jupyter-widgets/controls",
            "_model_module_version": "1.5.0",
            "_model_name": "VBoxModel",
            "_view_count": null,
            "_view_module": "@jupyter-widgets/controls",
            "_view_module_version": "1.5.0",
            "_view_name": "VBoxView",
            "box_style": "",
            "children": [
              "IPY_MODEL_e1033594d9ab498d9f9e661d0f02b1e9",
              "IPY_MODEL_0ef4c7c89d3a433a9c17299285efc5b4",
              "IPY_MODEL_dced1b298b7d4a67a76848f9f3e438a6"
            ],
            "layout": "IPY_MODEL_da72be5906d148dfaa3cd963c2b2a302"
          }
        },
        "e1033594d9ab498d9f9e661d0f02b1e9": {
          "model_module": "@jupyter-widgets/controls",
          "model_name": "DropdownModel",
          "model_module_version": "1.5.0",
          "state": {
            "_dom_classes": [],
            "_model_module": "@jupyter-widgets/controls",
            "_model_module_version": "1.5.0",
            "_model_name": "DropdownModel",
            "_options_labels": [
              "1e-06",
              "1e-05",
              "0.0001",
              "0.001",
              "0.01",
              "0.1",
              "1"
            ],
            "_view_count": null,
            "_view_module": "@jupyter-widgets/controls",
            "_view_module_version": "1.5.0",
            "_view_name": "DropdownView",
            "description": "l",
            "description_tooltip": null,
            "disabled": false,
            "index": 3,
            "layout": "IPY_MODEL_2fb6108019974372a8126f5c669516a1",
            "style": "IPY_MODEL_dad8350febbd45548112e28307819f94"
          }
        },
        "0ef4c7c89d3a433a9c17299285efc5b4": {
          "model_module": "@jupyter-widgets/controls",
          "model_name": "IntSliderModel",
          "model_module_version": "1.5.0",
          "state": {
            "_dom_classes": [],
            "_model_module": "@jupyter-widgets/controls",
            "_model_module_version": "1.5.0",
            "_model_name": "IntSliderModel",
            "_view_count": null,
            "_view_module": "@jupyter-widgets/controls",
            "_view_module_version": "1.5.0",
            "_view_name": "IntSliderView",
            "continuous_update": true,
            "description": "epoch",
            "description_tooltip": null,
            "disabled": false,
            "layout": "IPY_MODEL_c534ee995b8a44549f7b89489ec2f771",
            "max": 100000,
            "min": 1,
            "orientation": "horizontal",
            "readout": true,
            "readout_format": "d",
            "step": 1,
            "style": "IPY_MODEL_c829b0d2768248659b0e40643f665873",
            "value": 100000
          }
        },
        "dced1b298b7d4a67a76848f9f3e438a6": {
          "model_module": "@jupyter-widgets/output",
          "model_name": "OutputModel",
          "model_module_version": "1.0.0",
          "state": {
            "_dom_classes": [],
            "_model_module": "@jupyter-widgets/output",
            "_model_module_version": "1.0.0",
            "_model_name": "OutputModel",
            "_view_count": null,
            "_view_module": "@jupyter-widgets/output",
            "_view_module_version": "1.0.0",
            "_view_name": "OutputView",
            "layout": "IPY_MODEL_25085c0361dc4da1b2b6db1331315cd2",
            "msg_id": "",
            "outputs": [
              {
                "output_type": "display_data",
                "data": {
                  "text/plain": "<Figure size 640x480 with 1 Axes>",
                  "image/png": "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\n"
                },
                "metadata": {}
              }
            ]
          }
        },
        "da72be5906d148dfaa3cd963c2b2a302": {
          "model_module": "@jupyter-widgets/base",
          "model_name": "LayoutModel",
          "model_module_version": "1.2.0",
          "state": {
            "_model_module": "@jupyter-widgets/base",
            "_model_module_version": "1.2.0",
            "_model_name": "LayoutModel",
            "_view_count": null,
            "_view_module": "@jupyter-widgets/base",
            "_view_module_version": "1.2.0",
            "_view_name": "LayoutView",
            "align_content": null,
            "align_items": null,
            "align_self": null,
            "border": null,
            "bottom": null,
            "display": null,
            "flex": null,
            "flex_flow": null,
            "grid_area": null,
            "grid_auto_columns": null,
            "grid_auto_flow": null,
            "grid_auto_rows": null,
            "grid_column": null,
            "grid_gap": null,
            "grid_row": null,
            "grid_template_areas": null,
            "grid_template_columns": null,
            "grid_template_rows": null,
            "height": null,
            "justify_content": null,
            "justify_items": null,
            "left": null,
            "margin": null,
            "max_height": null,
            "max_width": null,
            "min_height": null,
            "min_width": null,
            "object_fit": null,
            "object_position": null,
            "order": null,
            "overflow": null,
            "overflow_x": null,
            "overflow_y": null,
            "padding": null,
            "right": null,
            "top": null,
            "visibility": null,
            "width": null
          }
        },
        "2fb6108019974372a8126f5c669516a1": {
          "model_module": "@jupyter-widgets/base",
          "model_name": "LayoutModel",
          "model_module_version": "1.2.0",
          "state": {
            "_model_module": "@jupyter-widgets/base",
            "_model_module_version": "1.2.0",
            "_model_name": "LayoutModel",
            "_view_count": null,
            "_view_module": "@jupyter-widgets/base",
            "_view_module_version": "1.2.0",
            "_view_name": "LayoutView",
            "align_content": null,
            "align_items": null,
            "align_self": null,
            "border": null,
            "bottom": null,
            "display": null,
            "flex": null,
            "flex_flow": null,
            "grid_area": null,
            "grid_auto_columns": null,
            "grid_auto_flow": null,
            "grid_auto_rows": null,
            "grid_column": null,
            "grid_gap": null,
            "grid_row": null,
            "grid_template_areas": null,
            "grid_template_columns": null,
            "grid_template_rows": null,
            "height": null,
            "justify_content": null,
            "justify_items": null,
            "left": null,
            "margin": null,
            "max_height": null,
            "max_width": null,
            "min_height": null,
            "min_width": null,
            "object_fit": null,
            "object_position": null,
            "order": null,
            "overflow": null,
            "overflow_x": null,
            "overflow_y": null,
            "padding": null,
            "right": null,
            "top": null,
            "visibility": null,
            "width": null
          }
        },
        "dad8350febbd45548112e28307819f94": {
          "model_module": "@jupyter-widgets/controls",
          "model_name": "DescriptionStyleModel",
          "model_module_version": "1.5.0",
          "state": {
            "_model_module": "@jupyter-widgets/controls",
            "_model_module_version": "1.5.0",
            "_model_name": "DescriptionStyleModel",
            "_view_count": null,
            "_view_module": "@jupyter-widgets/base",
            "_view_module_version": "1.2.0",
            "_view_name": "StyleView",
            "description_width": ""
          }
        },
        "c534ee995b8a44549f7b89489ec2f771": {
          "model_module": "@jupyter-widgets/base",
          "model_name": "LayoutModel",
          "model_module_version": "1.2.0",
          "state": {
            "_model_module": "@jupyter-widgets/base",
            "_model_module_version": "1.2.0",
            "_model_name": "LayoutModel",
            "_view_count": null,
            "_view_module": "@jupyter-widgets/base",
            "_view_module_version": "1.2.0",
            "_view_name": "LayoutView",
            "align_content": null,
            "align_items": null,
            "align_self": null,
            "border": null,
            "bottom": null,
            "display": null,
            "flex": null,
            "flex_flow": null,
            "grid_area": null,
            "grid_auto_columns": null,
            "grid_auto_flow": null,
            "grid_auto_rows": null,
            "grid_column": null,
            "grid_gap": null,
            "grid_row": null,
            "grid_template_areas": null,
            "grid_template_columns": null,
            "grid_template_rows": null,
            "height": null,
            "justify_content": null,
            "justify_items": null,
            "left": null,
            "margin": null,
            "max_height": null,
            "max_width": null,
            "min_height": null,
            "min_width": null,
            "object_fit": null,
            "object_position": null,
            "order": null,
            "overflow": null,
            "overflow_x": null,
            "overflow_y": null,
            "padding": null,
            "right": null,
            "top": null,
            "visibility": null,
            "width": null
          }
        },
        "c829b0d2768248659b0e40643f665873": {
          "model_module": "@jupyter-widgets/controls",
          "model_name": "SliderStyleModel",
          "model_module_version": "1.5.0",
          "state": {
            "_model_module": "@jupyter-widgets/controls",
            "_model_module_version": "1.5.0",
            "_model_name": "SliderStyleModel",
            "_view_count": null,
            "_view_module": "@jupyter-widgets/base",
            "_view_module_version": "1.2.0",
            "_view_name": "StyleView",
            "description_width": "",
            "handle_color": null
          }
        },
        "25085c0361dc4da1b2b6db1331315cd2": {
          "model_module": "@jupyter-widgets/base",
          "model_name": "LayoutModel",
          "model_module_version": "1.2.0",
          "state": {
            "_model_module": "@jupyter-widgets/base",
            "_model_module_version": "1.2.0",
            "_model_name": "LayoutModel",
            "_view_count": null,
            "_view_module": "@jupyter-widgets/base",
            "_view_module_version": "1.2.0",
            "_view_name": "LayoutView",
            "align_content": null,
            "align_items": null,
            "align_self": null,
            "border": null,
            "bottom": null,
            "display": null,
            "flex": null,
            "flex_flow": null,
            "grid_area": null,
            "grid_auto_columns": null,
            "grid_auto_flow": null,
            "grid_auto_rows": null,
            "grid_column": null,
            "grid_gap": null,
            "grid_row": null,
            "grid_template_areas": null,
            "grid_template_columns": null,
            "grid_template_rows": null,
            "height": "450px",
            "justify_content": null,
            "justify_items": null,
            "left": null,
            "margin": null,
            "max_height": null,
            "max_width": null,
            "min_height": null,
            "min_width": null,
            "object_fit": null,
            "object_position": null,
            "order": null,
            "overflow": null,
            "overflow_x": null,
            "overflow_y": null,
            "padding": null,
            "right": null,
            "top": null,
            "visibility": null,
            "width": null
          }
        }
      }
    }
  },
  "nbformat": 4,
  "nbformat_minor": 0
}